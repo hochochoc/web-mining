{
 "cells": [
  {
   "cell_type": "code",
   "execution_count": 49,
   "metadata": {},
   "outputs": [],
   "source": [
    "from pyvi import ViTokenizer, ViPosTagger\n",
    "def remove_pattern(row_content):\n",
    "    return re.sub(r'[?|$|.|!]',r'', row_content)\n",
    "def tokenize(row_content):\n",
    "    return ViTokenizer.tokenize(row_content)"
   ]
  },
  {
   "cell_type": "code",
   "execution_count": 50,
   "metadata": {},
   "outputs": [
    {
     "name": "stdout",
     "output_type": "stream",
     "text": [
      "    Tag                                            Content\n",
      "0     1  Tôi có dịp vào Gia_lai công_tác , sau ngày làm...\n",
      "1     1  Biển đẹp , buổi tối ở bãi biển rất tấp_nập , q...\n",
      "2     1  Tôi đến Hội_An khoảng 20 lần , lần nào cũng và...\n",
      "3     1  Chùa trên núi cao , rất mát_mẻ Chùa quả là hoà...\n",
      "4     1  Tôi có đến Dinh_III , ấn_tượng với các hiện_vậ...\n",
      "5     1  Nếu mục_đích của bạn đến Bangkok là để mua_sắm...\n",
      "6     1  Ga xe lửa nhỏ xinh , đẹp như trong truyện_cổ_t...\n",
      "7     1  Không nên bỏ lỡ dịp tới thăm chợ đêm Cicada Ch...\n",
      "8     1  Nhà_thờ nằm ngay khu_vực trung_tâm , nhưng có ...\n",
      "9     1  Chùa rộng , nằm trên đồi cao , tách_biệt khu d...\n",
      "10    1  Chùa rất cổ , chùa nằm trên đỉnh đồi , lên chù...\n",
      "11    1  Không_khí trong_lành , không_gian yên_tĩnh rất...\n",
      "12    1  Buổi tối quảng_trường thoáng mát , rất đông ng...\n",
      "13    1  Mùa hè mà ăn_ở đây thì đúng là không có chỗ nà...\n",
      "14    1  Hồ_Hoàn_Kiếm vào mùa xuân , ngày nắng quá đẹp ...\n",
      "15    1  Bãi biển không thật đẹp nhưng tôi thích bầu kh...\n",
      "16    1  Nhà_thờ nằm trong thị_trấn Sapa , khu_vực trun...\n",
      "17    1  Giá vé khá phù_hợp Có nhiều trò_chơi mới nên t...\n",
      "18    1  Tôi đã đến đây rất nhiều lần , và mỗi lần là m...\n",
      "19    1  Núi Hàm_Rồng nằm ngáy trong thị_trấn Sapa , có...\n",
      "20    1  Phong_cảnh hoang_sơ và rất đẹp Nước suối rất t...\n",
      "21    1  Chùa_Bái Đính rất rộng với nhiều khuân_viên kh...\n",
      "22    1  Không_khí vô_cùng trang_nghiêm và cổ_kính Bên ...\n",
      "23    1  Kiến_trúc ngôi đền rất cổ Hướng_dẫn_viên du_lị...\n",
      "24    1  Đi tham_quan Tuần Châu vào mùa hè là hợp_lí nh...\n",
      "25    1  Lăng_Minh_Mạng rất đẹp Xa hơn 2 lăng Tự_Đức và...\n",
      "26    1  Nên đi chợ cá vào sáng sớm để có_thể mua được ...\n",
      "27    1  Hồ_Tây trong_lành , đường Thanh_Niên một bên l...\n",
      "28    1  Chùa nằm ở vị_trí khá đẹp , rất rộng_rãi và th...\n",
      "29    1  Đền rất rộng , kiến_trúc đẹp và hoành_tráng Câ...\n",
      "30    1  Carmen là quán bar mình rất thích , decor , kh...\n",
      "31    1  Chợ này có vẻ là chợ truyền_thống , ngoài mặt_...\n",
      "32    1  Một thành_phố năng_động , nhộn_nhịp Hội_tụ các...\n",
      "33    1  Buổi tối ở đây rất đẹp , bạn có_thể đi dạo dọc...\n",
      "34    1  Rộng , thoáng_đãng buổi tối mọi người thường r...\n",
      "35    1  Trong chuyến du_lịch Nha_Trang 2 năm trước , v...\n",
      "36    0           hải_sản ko phong_phú và chế_biến ko ngon\n",
      "37    0  Chợ rất rộng và nhiều hàng Tuy_nhiên , đồ_đạc ...\n",
      "38    0  Khá đắt Một người 300 - 500k Nếu chưa đi thì đ...\n",
      "39    0  Premium Outlet_Pattaya ở tòa nhà Avenue , chủ_...\n",
      "40    0  Bãi biển bình_thường cát không đẹp , không mịn...\n",
      "41    0  Tuy_vậy chất_lượng phòng không quá cao , có cả...\n",
      "42    0  Bãi biển Cha_Am không phẳng , bãi cát không mị...\n",
      "43    0  Ngay gần Rừng_Quốc_gia Ba Vì , không_gian rất ...\n",
      "44    0  Trừ dịp có sự_kiện thì cũng hay , còn ngày thư...\n",
      "45    0  Theo mình nghĩ thì mọi người chủ_yếu đến đây đ...\n"
     ]
    }
   ],
   "source": [
    "import pandas\n",
    "import re\n",
    "df = pandas.read_csv('train-data.txt', sep=';')\n",
    "# print(df)\n",
    "df[\"Content\"] = df[\"Content\"].apply(remove_pattern)\n",
    "df[\"Content\"]= df[\"Content\"].apply(tokenize)\n",
    "print(df)"
   ]
  },
  {
   "cell_type": "code",
   "execution_count": 51,
   "metadata": {},
   "outputs": [],
   "source": [
    "from sklearn.feature_extraction.text import TfidfVectorizer\n",
    "v = TfidfVectorizer()\n",
    "x = v.fit_transform(df['Content'])"
   ]
  },
  {
   "cell_type": "code",
   "execution_count": 52,
   "metadata": {},
   "outputs": [
    {
     "name": "stdout",
     "output_type": "stream",
     "text": [
      "['0978222114', '20', '20k', '300', '500k', '500pax', '5k', '600pax', '70k', '7h', '800', '83', '8h', '9h', 'avenue', 'ba', 'baiyoke_sky', 'ban_ngày', 'ban_nhạc', 'bangkok', 'bao', 'bar', 'biết', 'biển', 'biển_cả', 'biển_hồ', 'biểu_diễn', 'bkk', 'buffet', 'buổi', 'bàn', 'bàn_cờ', 'bàn_ăn', 'bái_đính', 'bán', 'bánh', 'bánh_tôm', 'bãi', 'bên', 'bình_dị', 'bình_thường', 'bước', 'bạn', 'bản_thân', 'bầu', 'bậc', 'bị', 'bỏ', 'bộ', 'bờ', 'bức', 'bữa', 'ca_múa', 'ca_nhạc', 'cao', 'carmen', 'cha_am', 'chiều', 'cho', 'choáng_ngợp', 'chu_văn_an', 'chu_đáo', 'chuyến', 'chuyện', 'chân', 'châu', 'chê', 'chùa', 'chùa_bái', 'chúng_tôi', 'chút', 'chăm', 'chăm_chút', 'chơi', 'chưa', 'chương_trình', 'chạm_trổ', 'chạy', 'chả', 'chấp_nhận', 'chất_lượng', 'chắc_chắn', 'chế_biến', 'chỉ', 'chỗ', 'chợ', 'chục', 'chụp', 'chủ_quán', 'chủ_yếu', 'chứa', 'chữ', 'cicada', 'con', 'con_người', 'cua', 'cuối', 'cuốn', 'cá', 'cá_heo', 'cá_nhân', 'các', 'cách', 'cái', 'cát', 'cây_cối', 'còn', 'có', 'có_thể', 'cô', 'công_nhận', 'công_trình', 'công_tác', 'cùng', 'cũ', 'cũ_kỹ', 'cũng', 'cạnh', 'cả', 'cảm_giác', 'cảm_nhận', 'cảm_xúc', 'cảnh', 'cấu_trúc', 'cần', 'cầu', 'cổ', 'cổ_kính', 'cổ_xưa', 'cổng', 'cở', 'của', 'cứ', 'decor', 'dinh_iii', 'diễn', 'diễn_tả', 'du_lịch', 'duyệt_binh', 'dân', 'dân_cư', 'dân_tộc', 'dâng', 'dãy', 'dù', 'dưới', 'dạo', 'dẫn', 'dễ', 'dễ_chịu', 'dịch_vụ', 'dịp', 'dọc', 'dốc', 'em', 'flamenco', 'ga', 'ghé', 'ghẹ', 'ghế', 'gia_lai', 'gia_vị', 'giá', 'giá_cả', 'giây_phút', 'gió', 'giải_thích', 'giống', 'giới', 'giới_thiệu', 'gì', 'gần', 'gốm', 'gửi', 'hai', 'handmade', 'hay', 'hiểu', 'hiện_vật', 'hoa', 'hoa_văn', 'hoang_sơ', 'hoài_cổ', 'hoàng_nên', 'hoành_tráng', 'hoạt_động', 'hoặc', 'hua_hin', 'hà_nội', 'hàm_rông', 'hàm_rồng', 'hàng', 'hát', 'hè', 'hình', 'hình_như', 'hòn', 'hóng', 'hôm', 'hùng_vĩ', 'húc', 'hơi', 'hơn', 'hương', 'hương_giang', 'hướng_dẫn_viên', 'hưởng', 'hạ_cờ', 'hải_sản', 'hầu_hết', 'hầu_như', 'hầu_như_không', 'hằng', 'hết', 'học_hành', 'hồ', 'hồ_con', 'hồ_hoàn_kiếm', 'hồ_tây', 'hồ_đá', 'hội_an', 'hội_tụ', 'hợp_lí', 'hợp_lý', 'ialy', 'khen', 'khi', 'khiến', 'khmer', 'khoáng_đạt', 'khoảng', 'khu', 'khu_du_lịch', 'khu_vực', 'khung_cảnh', 'khuân_viên', 'khá', 'khác', 'khách', 'khách_sạn', 'khám_phá', 'khéo_léo', 'khó', 'không', 'không_gian', 'không_khí', 'khắp_nơi', 'kiến_trúc', 'kiểu', 'ko', 'kém', 'kẹo', 'la_hán', 'lang_thang', 'lantau', 'lazer', 'leo', 'linh_hồn', 'liên_tưởng', 'loại', 'luôn', 'là', 'làm', 'làm_quà', 'làm_việc', 'làng', 'lãng_mạn', 'lê_đại_hành', 'lên', 'lúc', 'lúc_nào', 'lăng', 'lăng_khải_định', 'lăng_minh_mạng', 'lưu_niệm', 'lưu_ý', 'lượt', 'lại', 'lấy', 'lần', 'lẫn', 'lập', 'lắm', 'lễ', 'lịch_sử', 'lịch_sự', 'lớn', 'lỡ', 'lứa', 'lửa', 'lựa_chọn', 'ma', 'may_mắn', 'menu', 'minh', 'miền', 'miễn_phí', 'mua', 'mua_sắm', 'muốn', 'mà', 'mái', 'mát', 'mát_mẻ', 'mãi', 'mét', 'mình', 'món', 'mùa', 'múa', 'mất', 'mấy', 'mặt_hàng', 'mặt_nước', 'mềm', 'mịn', 'mọi', 'mỗi', 'mộc', 'một', 'một_vẻ', 'mới', 'mở', 'mục_đích', 'nay', 'ngay', 'nghiêm_trang', 'nghiệm', 'nghĩ', 'ngon', 'ngoài', 'ngoài_ra', 'ngàn', 'ngày', 'ngày_lễ', 'ngày_xưa', 'ngáy', 'ngói', 'ngôi', 'người', 'người_lớn', 'ngắm', 'ngọc_sơn', 'ngồi', 'nha', 'nha_trang', 'nhanh_nhẹn', 'nhau', 'nhauphong', 'nhiều', 'nhiệt_tình', 'nhà', 'nhà_cổ', 'nhà_cửa', 'nhà_hàng', 'nhà_nghỉ', 'nhà_thờ', 'nhân_viên', 'nhé', 'nhì', 'nhìn', 'như', 'như_vậy', 'nhưng', 'nhạc', 'nhảy', 'nhất', 'nhất_là', 'nhầm_lẫn', 'nhẹ_nhàng', 'nhỏ', 'nhộn_nhịp', 'nhớ', 'những', 'nào', 'này', 'nét', 'nên', 'nói_chung', 'nóng', 'núi', 'năm', 'năng_động', 'nơi', 'nước', 'nước_ngoài', 'nắng', 'nằm', 'nếu', 'nồng_nhiệt', 'nổi_tiếng_thế_giới', 'nội_quy', 'nữa', 'outlet_pattaya', 'phiên', 'pho', 'phong', 'phong_cảnh', 'phong_nha', 'phong_phú', 'phòng', 'phù_hợp', 'phú_quốc', 'phút', 'phượng', 'phải', 'phải_chăng', 'phần', 'phật', 'phẳng', 'phố', 'phố_cổ', 'pin', 'po_nagar', 'pratunam', 'premium', 'pub', 'qua', 'quan', 'quang_cảnh', 'quanh', 'quá', 'quán', 'quán_xá', 'quả', 'quảng_trường', 'quần_áo', 'quầy', 'ra', 'recommend', 'rác', 'rùa', 'rất', 'rồi', 'rộng', 'rộng_rãi', 'rừng_núi', 'rừng_quốc_gia', 'rực_rỡ', 'sao', 'sapa', 'sau', 'set', 'so', 'street', 'suối', 'sài_gòn', 'sách', 'sáng', 'sân', 'sân_mây', 'sâu', 'sóng', 'sông', 'sơ_chế', 'sương_mù', 'sạch', 'sạch_sẽ', 'sầm_uất', 'sẵn', 'sẽ', 'sỏi', 'sống', 'sớm', 'sở', 'sức', 'sự', 'sự_kiện', 'ta', 'tam_đảo', 'tham_quan', 'thang', 'thanh_bình', 'thanh_niên', 'thanh_tịnh', 'theo', 'thiêng_liêng', 'thiêu', 'thiết_kế', 'thoáng', 'thoáng_đãng', 'thu', 'thung_lũng', 'thuyền', 'thuê', 'thuỷ_điện', 'thành_phố', 'thác', 'thái_lan', 'tháp', 'tháp_bà', 'thân_thiện', 'thê', 'thêm', 'thì', 'thích', 'thôi', 'thú_vị', 'thăm', 'thư_giãn', 'thường', 'thấm', 'thấp', 'thấy', 'thật', 'thị_trấn', 'thỏa_sức', 'thời_gian', 'thời_trang', 'thời_điểm', 'thủ_công', 'thủ_đô', 'thứ', 'thức_ăn', 'thử', 'thực_phẩm', 'thực_sự', 'tin', 'tinh_tế', 'tiếc', 'tiền', 'to', 'toàn_bộ', 'tphcm', 'trang_nghiêm', 'trang_trí', 'trong', 'trong_lành', 'trung_bình', 'trung_quốc', 'trung_tâm', 'truyền_thống', 'truyện_cổ_tích', 'trà_đá', 'trái_cây', 'trên', 'trò_chơi', 'trúc_bạch', 'trăm', 'trơn', 'trưng_bày', 'trước', 'trước_mắt', 'trượt', 'trải', 'trấn', 'trẻ', 'trẻ_con', 'trẻ_em', 'trị', 'trồng', 'trời', 'trừ', 'tuy_nhiên', 'tuy_vậy', 'tuyệt', 'tuyệt_vời', 'tuần', 'tuổi', 'tàu', 'tách_biệt', 'tên', 'tìm', 'tình', 'tòa', 'tói', 'tô_con', 'tôi', 'tôm', 'tùy', 'tươi', 'tượng', 'tại', 'tại_sao', 'tạm', 'tạo', 'tấp_nập', 'tầm_mắt', 'tầng', 'tẩm', 'tắm', 'tết', 'tỉ_mỉ', 'tối', 'tốt', 'tổ_chức', 'tới', 'từ', 'từng', 'tự', 'tự_đức', 'uy_tín', 'view', 'vintage', 'việt_nam', 'vua', 'vui_chơi', 'vui_tính', 'vui_vẻ', 'và', 'vào', 'vãn_cảnh', 'vé', 'vì', 'vòng', 'vô_cùng', 'vùng', 'vất_vả', 'vẫn', 'vậy', 'vắng', 'vẻ', 'về', 'vị_trí', 'với', 'vợ_chồng', 'vừa', 'vừa_ăn', 'web', 'xa', 'xanh', 'xanh_biếc', 'xe', 'xe_máy', 'xem', 'xin', 'xinh', 'xong', 'xung_quanh', 'xuân', 'xuống', 'xây', 'xứng_đáng', 'yên_tĩnh', 'yên_ả', 'yêu', 'ánh_sáng', 'ông', 'ăn', 'ăn_giá', 'ăn_mặc', 'ăn_ở', 'đa_dạng', 'đem', 'đi', 'đinh_tiên', 'điều', 'điểm', 'điểm_trừ', 'điển_tích', 'điện_thoại', 'đoàn', 'đoạn', 'đá', 'đá_ong', 'đáng', 'đâu', 'đây', 'đã', 'đèn', 'đêm', 'đính', 'đó', 'đông', 'đông_nam', 'đúng', 'đơn_giản', 'đưa', 'đường', 'đường_phố', 'được', 'đại_học', 'đảm_bảo', 'đảo', 'đấy', 'đầu', 'đầu_tiên', 'đắt', 'đặc_biệt', 'đặc_sắc', 'đẹp', 'đến', 'đền', 'đều', 'để', 'đỉnh', 'địa_điểm', 'đọc', 'đối_diện', 'đồ', 'đồ_ăn', 'đồ_đạc', 'đồi', 'đỗ', 'độ', 'độc_đáo', 'ạhãy', 'ảnh', 'ấn_tượng', 'ấy', 'ủng_hộ']\n"
     ]
    }
   ],
   "source": [
    "print(v.get_feature_names())"
   ]
  },
  {
   "cell_type": "code",
   "execution_count": 20,
   "metadata": {},
   "outputs": [
    {
     "name": "stdout",
     "output_type": "stream",
     "text": [
      "['and', 'document', 'first', 'is', 'one', 'second', 'the', 'third', 'this']\n",
      "(4, 9)\n"
     ]
    }
   ],
   "source": [
    "from sklearn.feature_extraction.text import TfidfVectorizer\n",
    "corpus = [\n",
    "    'This is the first document.',\n",
    "    'This document is the second document.',\n",
    "    'And this is the third one.',\n",
    "    'Is this the first document?',\n",
    "]\n",
    "vectorizer = TfidfVectorizer()\n",
    "X = vectorizer.fit_transform(corpus)\n",
    "print(vectorizer.get_feature_names())\n",
    "\n",
    "print(X.shape)"
   ]
  },
  {
   "cell_type": "code",
   "execution_count": 25,
   "metadata": {},
   "outputs": [],
   "source": [
    "from pyvi import ViTokenizer, ViPosTagger\n",
    "a = ViTokenizer.tokenize(u\"Trường đại học bách khoa hà nội\")"
   ]
  },
  {
   "cell_type": "code",
   "execution_count": 26,
   "metadata": {},
   "outputs": [
    {
     "name": "stdout",
     "output_type": "stream",
     "text": [
      "Trường đại_học bách_khoa hà_nội\n"
     ]
    }
   ],
   "source": [
    "print(a)"
   ]
  },
  {
   "cell_type": "code",
   "execution_count": null,
   "metadata": {},
   "outputs": [],
   "source": []
  }
 ],
 "metadata": {
  "kernelspec": {
   "display_name": "Python 3",
   "language": "python",
   "name": "python3"
  },
  "language_info": {
   "codemirror_mode": {
    "name": "ipython",
    "version": 3
   },
   "file_extension": ".py",
   "mimetype": "text/x-python",
   "name": "python",
   "nbconvert_exporter": "python",
   "pygments_lexer": "ipython3",
   "version": "3.7.0"
  }
 },
 "nbformat": 4,
 "nbformat_minor": 2
}
