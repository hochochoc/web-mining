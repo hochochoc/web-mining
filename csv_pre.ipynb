{
 "cells": [
  {
   "cell_type": "code",
   "execution_count": 28,
   "metadata": {},
   "outputs": [],
   "source": [
    "import pandas as pd\n",
    "import numpy as np"
   ]
  },
  {
   "cell_type": "code",
   "execution_count": 33,
   "metadata": {},
   "outputs": [],
   "source": [
    "def CustomParser(data):\n",
    "    import json\n",
    "    j1 = json.loads(data)\n",
    "    return j1"
   ]
  },
  {
   "cell_type": "code",
   "execution_count": null,
   "metadata": {},
   "outputs": [],
   "source": []
  },
  {
   "cell_type": "code",
   "execution_count": 42,
   "metadata": {},
   "outputs": [
    {
     "data": {
      "text/plain": [
       "[{'date': '2016-06-03',\n",
       "  'negative': 'Diện tích phòng vệ sinh cần rộng hơn',\n",
       "  'positive': '',\n",
       "  'tags': [' Chuyến đi công tác',\n",
       "   ' Cặp đôi',\n",
       "   ' Phòng Deluxe Giường Đôi hoặc 2 Giường Đơn',\n",
       "   ' Đã nghỉ 2 đêm']},\n",
       " {'date': '2016-03-19',\n",
       "  'negative': '',\n",
       "  'positive': 'Ăn sáng ngon',\n",
       "  'tags': [' Chuyến đi công tác',\n",
       "   ' Gia đình',\n",
       "   ' Phòng Đôi Premier Deluxe',\n",
       "   ' Đã nghỉ 3 đêm',\n",
       "   ' Gửi bằng di động']},\n",
       " {'date': '2015-11-12',\n",
       "  'negative': 'Cach am giua cac phong chua tot',\n",
       "  'positive': 'Dia diem thuan tien, sach se , phong tot',\n",
       "  'tags': [' Chuyến đi nghỉ mát',\n",
       "   ' Nhóm',\n",
       "   ' Phòng Deluxe Giường Đôi hoặc 2 Giường Đơn',\n",
       "   ' Đã nghỉ 1 đêm',\n",
       "   ' Gửi bằng di động']}]"
      ]
     },
     "execution_count": 42,
     "metadata": {},
     "output_type": "execute_result"
    }
   ],
   "source": [
    "# reviews = pd.read_csv(\"reviews-web-mining-0.csv\")\n",
    "# Open the file with read only permit\n",
    "reviews = pd.read_csv('reviews-web-mining-sentiment.csv', delimiter=';', converters={'reviews': CustomParser})\n",
    "# reviews['Sentiment'] = 1\n",
    "# reviews.columns = ['Content','Sentiment']\n",
    "# reviews = reviews.dropna()\n",
    "# reviews = reviews.reset_index(drop=True)\n",
    "reviews['reviews'].iloc[0]"
   ]
  },
  {
   "cell_type": "code",
   "execution_count": 30,
   "metadata": {},
   "outputs": [],
   "source": [
    "reviews.to_csv('reviews-web-mining-1-ok.csv', sep='\\t')"
   ]
  },
  {
   "cell_type": "code",
   "execution_count": null,
   "metadata": {},
   "outputs": [],
   "source": []
  }
 ],
 "metadata": {
  "kernelspec": {
   "display_name": "Python 3",
   "language": "python",
   "name": "python3"
  },
  "language_info": {
   "codemirror_mode": {
    "name": "ipython",
    "version": 3
   },
   "file_extension": ".py",
   "mimetype": "text/x-python",
   "name": "python",
   "nbconvert_exporter": "python",
   "pygments_lexer": "ipython3",
   "version": "3.7.0"
  }
 },
 "nbformat": 4,
 "nbformat_minor": 2
}
