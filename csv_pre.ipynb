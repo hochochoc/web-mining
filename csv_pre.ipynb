{
 "cells": [
  {
   "cell_type": "code",
   "execution_count": 6,
   "metadata": {
    "collapsed": true
   },
   "outputs": [],
   "source": [
    "import pandas as pd\n",
    "import numpy as np"
   ]
  },
  {
   "cell_type": "code",
   "execution_count": 7,
   "metadata": {
    "collapsed": true
   },
   "outputs": [],
   "source": [
    "def CustomParser(data):\n",
    "    import json\n",
    "    j1 = json.loads(data)\n",
    "    return j1"
   ]
  },
  {
   "cell_type": "code",
   "execution_count": null,
   "metadata": {
    "collapsed": true
   },
   "outputs": [],
   "source": []
  },
  {
   "cell_type": "code",
   "execution_count": 17,
   "metadata": {},
   "outputs": [],
   "source": [
    "# reviews = pd.read_csv(\"reviews-web-mining-0.csv\")\n",
    "# Open the file with read only permit\n",
    "reviews = pd.read_csv('reviews-web-mining-sentiment.csv', delimiter=';', converters={'reviews': CustomParser})\n",
    "# reviews['Sentiment'] = 1\n",
    "# reviews.columns = ['Content','Sentiment']\n",
    "# reviews = reviews.dropna()\n",
    "# reviews = reviews.reset_index(drop=True)\n",
    "positive_reviews = []\n",
    "negative_reviews = []\n",
    "for index, row in reviews.iterrows():\n",
    "    review_json = row['reviews']\n",
    "    for review in review_json:\n",
    "        if len(review['positive']) > 0:\n",
    "            positive_reviews.append(review['positive'])\n",
    "        if (len(review['negative']) > 0):\n",
    "            negative_reviews.append(review['negative'])\n",
    "\n",
    "a = pd.DataFrame.from_dict({\n",
    "    'reviews': positive_reviews,\n",
    "    'sentiment': 1,\n",
    "})\n",
    "b = pd.DataFrame.from_dict({\n",
    "    'reviews': negative_reviews,\n",
    "    'sentiment': 1,\n",
    "})"
   ]
  },
  {
   "cell_type": "code",
   "execution_count": 18,
   "metadata": {},
   "outputs": [],
   "source": [
    "a.to_csv('reviews-web-mining-sentiment-1.csv', sep='\\t')\n",
    "b.to_csv('reviews-web-mining-sentiment-0.csv', sep='\\t')"
   ]
  },
  {
   "cell_type": "code",
   "execution_count": null,
   "metadata": {
    "collapsed": true
   },
   "outputs": [],
   "source": []
  }
 ],
 "metadata": {
  "kernelspec": {
   "display_name": "Python 3",
   "language": "python",
   "name": "python3"
  },
  "language_info": {
   "codemirror_mode": {
    "name": "ipython",
    "version": 3
   },
   "file_extension": ".py",
   "mimetype": "text/x-python",
   "name": "python",
   "nbconvert_exporter": "python",
   "pygments_lexer": "ipython3",
   "version": "3.6.2"
  }
 },
 "nbformat": 4,
 "nbformat_minor": 2
}
